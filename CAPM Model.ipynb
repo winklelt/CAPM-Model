{
 "cells": [
  {
   "cell_type": "markdown",
   "id": "327ae597-ded7-46fb-9478-15bb5aebf54e",
   "metadata": {},
   "source": [
    "# Problem Set 8\n",
    "\n",
    "**Mingqi Sui, Diana Zhang, Tong Liu, Valentina Cortés, Edoardo Pettinato**\n",
    "\n",
    "**Group 9 - Cohort 1**"
   ]
  },
  {
   "cell_type": "markdown",
   "id": "41706b15-70d2-4a80-8a52-cb4a6748997b",
   "metadata": {},
   "source": [
    "## Problem 1"
   ]
  },
  {
   "cell_type": "markdown",
   "id": "a98b6ff4-0021-493d-93b6-7df9632aee72",
   "metadata": {},
   "source": [
    "### Part(a）"
   ]
  },
  {
   "cell_type": "code",
   "execution_count": 4,
   "id": "ef9634f3-03ab-44ec-8bd3-d600b3ff6506",
   "metadata": {},
   "outputs": [],
   "source": [
    "import os\n",
    "os.chdir(r\"C:\\Users\\76721\\Desktop\\UCLA\\Fall-2024\\Investments\\Lecture 7\")\n",
    "import pandas as pd\n",
    "import numpy as np\n",
    "from scipy.optimize import minimize\n",
    "import scipy.stats as ss\n",
    "import matplotlib.pyplot as plt\n",
    "from datetime import datetime\n",
    "import matplotlib.pyplot as plt\n",
    "from functools import reduce\n",
    "import quadprog as QD\n",
    "import statsmodels.api as sm\n",
    "import warnings\n",
    "warnings.filterwarnings('ignore')"
   ]
  },
  {
   "cell_type": "code",
   "execution_count": 5,
   "id": "3889e78c-e1a8-4abe-b82b-da074cbaa246",
   "metadata": {},
   "outputs": [],
   "source": [
    "#Prepare data\n",
    "#load data \n",
    "#stock data\n",
    "df_list = []\n",
    "for i in range(0,5):\n",
    "    df = pd.read_excel('lecture6p_2022.xlsx', sheet_name = i)\n",
    "    #new_df = function(df)\n",
    "    df_list.append(df)\n",
    "\n",
    "#load Fama French data\n",
    "ff = pd.read_excel('lecture6p_2022.xlsx', sheet_name = \"F-F_Research_Data_Factors_daily\")\n",
    "\n",
    "begindate = \"1989-12-29\"\n",
    "enddate = \"2022-08-31\"\n",
    "def cleandt(d):\n",
    "    d.columns = d.columns.str.lower()\n",
    "    filt = (d['date'] >= begindate) & (d['date'] <= enddate)\n",
    "    d = d.loc[filt]\n",
    "    d = d[[\"date\",\"adjclose\"]]\n",
    "    return d\n",
    "\n",
    "df_list_new = [cleandt(d) for d in df_list]\n",
    "\n",
    "df_list_new[0] = df_list_new[0].rename(columns = { \"adjclose\":\"MSFT\"})\n",
    "df_list_new[1] = df_list_new[1].rename(columns = { \"adjclose\":\"INTC\"})\n",
    "df_list_new[2] = df_list_new[2].rename(columns = { \"adjclose\":\"LUV\"})\n",
    "df_list_new[3] = df_list_new[3].rename(columns = { \"adjclose\":\"MCD\"})\n",
    "df_list_new[4] = df_list_new[4].rename(columns = { \"adjclose\":\"JNJ\"})\n",
    "\n",
    "df_merged = reduce(lambda  left,right: pd.merge(left,right,on=['date'], how='outer'), df_list_new)\n",
    "\n",
    "# clean fama french data \n",
    "ff.columns = ff.columns.str.lower()\n",
    "ff = ff[[\"date\", \"mktrf\", \"rf\"]]\n",
    "ff[\"rf\"] = ff[\"rf\"]/100\n",
    "ff[\"mktrf\"] = ff[\"mktrf\"]/100\n",
    "ff['rfleveladj'] = (ff['rf']+1).cumprod()\n",
    "ff[\"mktrfleveladj\"] = (ff['mktrf']+1).cumprod()\n",
    "filt = (ff['date'] >= begindate) & (ff['date'] <= enddate)\n",
    "ff = ff.loc[filt]\n",
    "\n",
    "d = pd.merge(ff, df_merged, how=\"inner\", on=[\"date\"])\n",
    "#print(d)\n",
    "d['Date'] = d['date']\n",
    "d = d.set_index('date')\n",
    "d = d.resample('W-Fri').last()\n",
    "#print(d)\n",
    "\n",
    "d['rf'] = (d['rfleveladj']/d['rfleveladj'].shift() -1)  ##### May need to recheck\n",
    "d['mktrf'] = (d['mktrfleveladj']/d['mktrfleveladj'].shift() -1)#recreate the excess market return\n",
    "d['MSFT'] = (d['MSFT']/d['MSFT'].shift() -1)\n",
    "d['INTC'] = (d['INTC']/d['INTC'].shift() -1)\n",
    "d['LUV'] = (d['LUV']/d['LUV'].shift() -1)\n",
    "d['MCD'] = (d['MCD']/d['MCD'].shift() -1)\n",
    "d['JNJ'] = (d['JNJ']/d['JNJ'].shift() -1)\n",
    "#print(d)\n",
    "d= d.dropna()\n"
   ]
  },
  {
   "cell_type": "code",
   "execution_count": 6,
   "id": "4f880312-e2fe-4064-9107-9ccc37432757",
   "metadata": {},
   "outputs": [
    {
     "data": {
      "text/html": [
       "<div>\n",
       "<style scoped>\n",
       "    .dataframe tbody tr th:only-of-type {\n",
       "        vertical-align: middle;\n",
       "    }\n",
       "\n",
       "    .dataframe tbody tr th {\n",
       "        vertical-align: top;\n",
       "    }\n",
       "\n",
       "    .dataframe thead th {\n",
       "        text-align: right;\n",
       "    }\n",
       "</style>\n",
       "<table border=\"1\" class=\"dataframe\">\n",
       "  <thead>\n",
       "    <tr style=\"text-align: right;\">\n",
       "      <th></th>\n",
       "      <th>MSFT</th>\n",
       "      <th>INTC</th>\n",
       "      <th>LUV</th>\n",
       "      <th>MCD</th>\n",
       "      <th>JNJ</th>\n",
       "    </tr>\n",
       "  </thead>\n",
       "  <tbody>\n",
       "    <tr>\n",
       "      <th>mean</th>\n",
       "      <td>0.465523</td>\n",
       "      <td>0.348689</td>\n",
       "      <td>0.328648</td>\n",
       "      <td>0.281898</td>\n",
       "      <td>0.263134</td>\n",
       "    </tr>\n",
       "    <tr>\n",
       "      <th>std</th>\n",
       "      <td>4.055892</td>\n",
       "      <td>4.881337</td>\n",
       "      <td>4.766215</td>\n",
       "      <td>3.089981</td>\n",
       "      <td>2.811242</td>\n",
       "    </tr>\n",
       "  </tbody>\n",
       "</table>\n",
       "</div>"
      ],
      "text/plain": [
       "          MSFT      INTC       LUV       MCD       JNJ\n",
       "mean  0.465523  0.348689  0.328648  0.281898  0.263134\n",
       "std   4.055892  4.881337  4.766215  3.089981  2.811242"
      ]
     },
     "execution_count": 6,
     "metadata": {},
     "output_type": "execute_result"
    }
   ],
   "source": [
    "dftable = d.iloc[:,4:9] #select all stocks \n",
    "\n",
    "\n",
    "#standard deviation\n",
    "res = dftable.agg([np.mean,np.std])\n",
    "res*100\n",
    "\n"
   ]
  },
  {
   "cell_type": "code",
   "execution_count": 7,
   "id": "deb35c23-bafd-4666-b8e9-0a520010f68b",
   "metadata": {},
   "outputs": [
    {
     "data": {
      "text/html": [
       "<table class=\"simpletable\">\n",
       "<caption>OLS Regression Results</caption>\n",
       "<tr>\n",
       "  <th>Dep. Variable:</th>            <td>y</td>        <th>  R-squared:         </th> <td>   0.334</td> \n",
       "</tr>\n",
       "<tr>\n",
       "  <th>Model:</th>                   <td>OLS</td>       <th>  Adj. R-squared:    </th> <td>   0.333</td> \n",
       "</tr>\n",
       "<tr>\n",
       "  <th>Method:</th>             <td>Least Squares</td>  <th>  F-statistic:       </th> <td>   852.2</td> \n",
       "</tr>\n",
       "<tr>\n",
       "  <th>Date:</th>             <td>Sat, 30 Nov 2024</td> <th>  Prob (F-statistic):</th> <td>2.99e-152</td>\n",
       "</tr>\n",
       "<tr>\n",
       "  <th>Time:</th>                 <td>23:49:40</td>     <th>  Log-Likelihood:    </th> <td>  3392.3</td> \n",
       "</tr>\n",
       "<tr>\n",
       "  <th>No. Observations:</th>      <td>  1705</td>      <th>  AIC:               </th> <td>  -6781.</td> \n",
       "</tr>\n",
       "<tr>\n",
       "  <th>Df Residuals:</th>          <td>  1703</td>      <th>  BIC:               </th> <td>  -6770.</td> \n",
       "</tr>\n",
       "<tr>\n",
       "  <th>Df Model:</th>              <td>     1</td>      <th>                     </th>     <td> </td>    \n",
       "</tr>\n",
       "<tr>\n",
       "  <th>Covariance Type:</th>      <td>nonrobust</td>    <th>                     </th>     <td> </td>    \n",
       "</tr>\n",
       "</table>\n",
       "<table class=\"simpletable\">\n",
       "<tr>\n",
       "    <td></td>       <th>coef</th>     <th>std err</th>      <th>t</th>      <th>P>|t|</th>  <th>[0.025</th>    <th>0.975]</th>  \n",
       "</tr>\n",
       "<tr>\n",
       "  <th>const</th> <td>    0.0026</td> <td>    0.001</td> <td>    3.193</td> <td> 0.001</td> <td>    0.001</td> <td>    0.004</td>\n",
       "</tr>\n",
       "<tr>\n",
       "  <th>mktrf</th> <td>    0.9845</td> <td>    0.034</td> <td>   29.193</td> <td> 0.000</td> <td>    0.918</td> <td>    1.051</td>\n",
       "</tr>\n",
       "</table>\n",
       "<table class=\"simpletable\">\n",
       "<tr>\n",
       "  <th>Omnibus:</th>       <td>201.079</td> <th>  Durbin-Watson:     </th> <td>   2.076</td> \n",
       "</tr>\n",
       "<tr>\n",
       "  <th>Prob(Omnibus):</th> <td> 0.000</td>  <th>  Jarque-Bera (JB):  </th> <td>1239.262</td> \n",
       "</tr>\n",
       "<tr>\n",
       "  <th>Skew:</th>          <td> 0.359</td>  <th>  Prob(JB):          </th> <td>7.90e-270</td>\n",
       "</tr>\n",
       "<tr>\n",
       "  <th>Kurtosis:</th>      <td> 7.114</td>  <th>  Cond. No.          </th> <td>    42.1</td> \n",
       "</tr>\n",
       "</table><br/><br/>Notes:<br/>[1] Standard Errors assume that the covariance matrix of the errors is correctly specified."
      ],
      "text/latex": [
       "\\begin{center}\n",
       "\\begin{tabular}{lclc}\n",
       "\\toprule\n",
       "\\textbf{Dep. Variable:}    &        y         & \\textbf{  R-squared:         } &     0.334   \\\\\n",
       "\\textbf{Model:}            &       OLS        & \\textbf{  Adj. R-squared:    } &     0.333   \\\\\n",
       "\\textbf{Method:}           &  Least Squares   & \\textbf{  F-statistic:       } &     852.2   \\\\\n",
       "\\textbf{Date:}             & Sat, 30 Nov 2024 & \\textbf{  Prob (F-statistic):} & 2.99e-152   \\\\\n",
       "\\textbf{Time:}             &     23:49:40     & \\textbf{  Log-Likelihood:    } &    3392.3   \\\\\n",
       "\\textbf{No. Observations:} &        1705      & \\textbf{  AIC:               } &    -6781.   \\\\\n",
       "\\textbf{Df Residuals:}     &        1703      & \\textbf{  BIC:               } &    -6770.   \\\\\n",
       "\\textbf{Df Model:}         &           1      & \\textbf{                     } &             \\\\\n",
       "\\textbf{Covariance Type:}  &    nonrobust     & \\textbf{                     } &             \\\\\n",
       "\\bottomrule\n",
       "\\end{tabular}\n",
       "\\begin{tabular}{lcccccc}\n",
       "               & \\textbf{coef} & \\textbf{std err} & \\textbf{t} & \\textbf{P$> |$t$|$} & \\textbf{[0.025} & \\textbf{0.975]}  \\\\\n",
       "\\midrule\n",
       "\\textbf{const} &       0.0026  &        0.001     &     3.193  &         0.001        &        0.001    &        0.004     \\\\\n",
       "\\textbf{mktrf} &       0.9845  &        0.034     &    29.193  &         0.000        &        0.918    &        1.051     \\\\\n",
       "\\bottomrule\n",
       "\\end{tabular}\n",
       "\\begin{tabular}{lclc}\n",
       "\\textbf{Omnibus:}       & 201.079 & \\textbf{  Durbin-Watson:     } &     2.076  \\\\\n",
       "\\textbf{Prob(Omnibus):} &   0.000 & \\textbf{  Jarque-Bera (JB):  } &  1239.262  \\\\\n",
       "\\textbf{Skew:}          &   0.359 & \\textbf{  Prob(JB):          } & 7.90e-270  \\\\\n",
       "\\textbf{Kurtosis:}      &   7.114 & \\textbf{  Cond. No.          } &      42.1  \\\\\n",
       "\\bottomrule\n",
       "\\end{tabular}\n",
       "%\\caption{OLS Regression Results}\n",
       "\\end{center}\n",
       "\n",
       "Notes: \\newline\n",
       " [1] Standard Errors assume that the covariance matrix of the errors is correctly specified."
      ],
      "text/plain": [
       "<class 'statsmodels.iolib.summary.Summary'>\n",
       "\"\"\"\n",
       "                            OLS Regression Results                            \n",
       "==============================================================================\n",
       "Dep. Variable:                      y   R-squared:                       0.334\n",
       "Model:                            OLS   Adj. R-squared:                  0.333\n",
       "Method:                 Least Squares   F-statistic:                     852.2\n",
       "Date:                Sat, 30 Nov 2024   Prob (F-statistic):          2.99e-152\n",
       "Time:                        23:49:40   Log-Likelihood:                 3392.3\n",
       "No. Observations:                1705   AIC:                            -6781.\n",
       "Df Residuals:                    1703   BIC:                            -6770.\n",
       "Df Model:                           1                                         \n",
       "Covariance Type:            nonrobust                                         \n",
       "==============================================================================\n",
       "                 coef    std err          t      P>|t|      [0.025      0.975]\n",
       "------------------------------------------------------------------------------\n",
       "const          0.0026      0.001      3.193      0.001       0.001       0.004\n",
       "mktrf          0.9845      0.034     29.193      0.000       0.918       1.051\n",
       "==============================================================================\n",
       "Omnibus:                      201.079   Durbin-Watson:                   2.076\n",
       "Prob(Omnibus):                  0.000   Jarque-Bera (JB):             1239.262\n",
       "Skew:                           0.359   Prob(JB):                    7.90e-270\n",
       "Kurtosis:                       7.114   Cond. No.                         42.1\n",
       "==============================================================================\n",
       "\n",
       "Notes:\n",
       "[1] Standard Errors assume that the covariance matrix of the errors is correctly specified.\n",
       "\"\"\""
      ]
     },
     "execution_count": 7,
     "metadata": {},
     "output_type": "execute_result"
    }
   ],
   "source": [
    "MSFTminusRF = d['MSFT'] - d['rf']\n",
    "MktRF = d['mktrf']\n",
    "\n",
    "# adding a constant\n",
    "MktRF = sm.add_constant(MktRF)\n",
    "model = sm.OLS(MSFTminusRF, MktRF).fit()\n",
    "modelrss = model.resid.std(ddof=MktRF.shape[1]) #model residual standard error\n",
    "# Printing model summary\n",
    "model.summary()\n"
   ]
  },
  {
   "cell_type": "code",
   "execution_count": 8,
   "id": "87e803f0-d141-4c4c-b311-15f4f5e8bd68",
   "metadata": {},
   "outputs": [
    {
     "data": {
      "text/html": [
       "<div>\n",
       "<style scoped>\n",
       "    .dataframe tbody tr th:only-of-type {\n",
       "        vertical-align: middle;\n",
       "    }\n",
       "\n",
       "    .dataframe tbody tr th {\n",
       "        vertical-align: top;\n",
       "    }\n",
       "\n",
       "    .dataframe thead th {\n",
       "        text-align: right;\n",
       "    }\n",
       "</style>\n",
       "<table border=\"1\" class=\"dataframe\">\n",
       "  <thead>\n",
       "    <tr style=\"text-align: right;\">\n",
       "      <th></th>\n",
       "      <th>Stock</th>\n",
       "      <th>Beta</th>\n",
       "      <th>Std Error</th>\n",
       "    </tr>\n",
       "  </thead>\n",
       "  <tbody>\n",
       "    <tr>\n",
       "      <th>0</th>\n",
       "      <td>MSFT</td>\n",
       "      <td>0.984480</td>\n",
       "      <td>0.033723</td>\n",
       "    </tr>\n",
       "    <tr>\n",
       "      <th>1</th>\n",
       "      <td>INTC</td>\n",
       "      <td>1.167792</td>\n",
       "      <td>0.040886</td>\n",
       "    </tr>\n",
       "    <tr>\n",
       "      <th>2</th>\n",
       "      <td>LUV</td>\n",
       "      <td>1.062415</td>\n",
       "      <td>0.041171</td>\n",
       "    </tr>\n",
       "    <tr>\n",
       "      <th>3</th>\n",
       "      <td>MCD</td>\n",
       "      <td>0.639058</td>\n",
       "      <td>0.027417</td>\n",
       "    </tr>\n",
       "    <tr>\n",
       "      <th>4</th>\n",
       "      <td>JNJ</td>\n",
       "      <td>0.553550</td>\n",
       "      <td>0.025291</td>\n",
       "    </tr>\n",
       "  </tbody>\n",
       "</table>\n",
       "</div>"
      ],
      "text/plain": [
       "  Stock      Beta  Std Error\n",
       "0  MSFT  0.984480   0.033723\n",
       "1  INTC  1.167792   0.040886\n",
       "2   LUV  1.062415   0.041171\n",
       "3   MCD  0.639058   0.027417\n",
       "4   JNJ  0.553550   0.025291"
      ]
     },
     "execution_count": 8,
     "metadata": {},
     "output_type": "execute_result"
    }
   ],
   "source": [
    "# Calculate excess returns for each stock\n",
    "stocks = ['MSFT', 'INTC', 'LUV', 'MCD', 'JNJ']\n",
    "excess_returns = {stock: d[stock] - d['rf'] for stock in stocks}\n",
    "\n",
    "# Prepare the independent variable (market excess returns) with a constant\n",
    "MktRF = sm.add_constant(d['mktrf'])\n",
    "\n",
    "# Initialize a DataFrame to store results\n",
    "results = []\n",
    "\n",
    "# Perform regression for each stock\n",
    "for stock, excess_return in excess_returns.items():\n",
    "    #print(stock, type(excess_return))\n",
    "    model = sm.OLS(excess_return, MktRF).fit()\n",
    "    beta = model.params['mktrf']\n",
    "    std_error = model.bse['mktrf']\n",
    "    results.append({'Stock': stock, 'Beta': beta, 'Std Error': std_error})\n",
    "\n",
    "# Convert results to a DataFrame\n",
    "results_df = pd.DataFrame(results)\n",
    "results_df"
   ]
  },
  {
   "cell_type": "code",
   "execution_count": 9,
   "id": "608f01ad-7725-4d86-a712-4218c1dff326",
   "metadata": {},
   "outputs": [
    {
     "name": "stdout",
     "output_type": "stream",
     "text": [
      "(1705, 2)\n",
      "(1705, 2)\n",
      "(1705, 2)\n",
      "(1705, 2)\n",
      "(1705, 2)\n"
     ]
    },
    {
     "data": {
      "text/html": [
       "<div>\n",
       "<style scoped>\n",
       "    .dataframe tbody tr th:only-of-type {\n",
       "        vertical-align: middle;\n",
       "    }\n",
       "\n",
       "    .dataframe tbody tr th {\n",
       "        vertical-align: top;\n",
       "    }\n",
       "\n",
       "    .dataframe thead th {\n",
       "        text-align: right;\n",
       "    }\n",
       "</style>\n",
       "<table border=\"1\" class=\"dataframe\">\n",
       "  <thead>\n",
       "    <tr style=\"text-align: right;\">\n",
       "      <th></th>\n",
       "      <th>Stock</th>\n",
       "      <th>Alpha</th>\n",
       "      <th>Alpha std Error</th>\n",
       "      <th>Beta</th>\n",
       "      <th>Beta std Error</th>\n",
       "      <th>Idiosyncratic Std Dev</th>\n",
       "    </tr>\n",
       "  </thead>\n",
       "  <tbody>\n",
       "    <tr>\n",
       "      <th>0</th>\n",
       "      <td>MSFT</td>\n",
       "      <td>0.002566</td>\n",
       "      <td>0.000804</td>\n",
       "      <td>0.984480</td>\n",
       "      <td>0.033723</td>\n",
       "      <td>0.033109</td>\n",
       "    </tr>\n",
       "    <tr>\n",
       "      <th>1</th>\n",
       "      <td>INTC</td>\n",
       "      <td>0.001098</td>\n",
       "      <td>0.000974</td>\n",
       "      <td>1.167792</td>\n",
       "      <td>0.040886</td>\n",
       "      <td>0.040142</td>\n",
       "    </tr>\n",
       "    <tr>\n",
       "      <th>2</th>\n",
       "      <td>LUV</td>\n",
       "      <td>0.001070</td>\n",
       "      <td>0.000981</td>\n",
       "      <td>1.062415</td>\n",
       "      <td>0.041171</td>\n",
       "      <td>0.040421</td>\n",
       "    </tr>\n",
       "    <tr>\n",
       "      <th>3</th>\n",
       "      <td>MCD</td>\n",
       "      <td>0.001296</td>\n",
       "      <td>0.000653</td>\n",
       "      <td>0.639058</td>\n",
       "      <td>0.027417</td>\n",
       "      <td>0.026918</td>\n",
       "    </tr>\n",
       "    <tr>\n",
       "      <th>4</th>\n",
       "      <td>JNJ</td>\n",
       "      <td>0.001249</td>\n",
       "      <td>0.000603</td>\n",
       "      <td>0.553550</td>\n",
       "      <td>0.025291</td>\n",
       "      <td>0.024831</td>\n",
       "    </tr>\n",
       "  </tbody>\n",
       "</table>\n",
       "</div>"
      ],
      "text/plain": [
       "  Stock     Alpha  Alpha std Error      Beta  Beta std Error  \\\n",
       "0  MSFT  0.002566         0.000804  0.984480        0.033723   \n",
       "1  INTC  0.001098         0.000974  1.167792        0.040886   \n",
       "2   LUV  0.001070         0.000981  1.062415        0.041171   \n",
       "3   MCD  0.001296         0.000653  0.639058        0.027417   \n",
       "4   JNJ  0.001249         0.000603  0.553550        0.025291   \n",
       "\n",
       "   Idiosyncratic Std Dev  \n",
       "0               0.033109  \n",
       "1               0.040142  \n",
       "2               0.040421  \n",
       "3               0.026918  \n",
       "4               0.024831  "
      ]
     },
     "execution_count": 9,
     "metadata": {},
     "output_type": "execute_result"
    }
   ],
   "source": [
    "results = []\n",
    "# Perform regression for each stock\n",
    "for stock, excess_return in excess_returns.items():\n",
    "    model = sm.OLS(excess_return, MktRF).fit()\n",
    "    alpha = model.params['const']\n",
    "    alpha_std_error = model.bse['const']\n",
    "    beta = model.params['mktrf']\n",
    "    beta_std_error = model.bse['mktrf']\n",
    "    idiosyncratic_std = model.resid.std(ddof = MktRF.shape[1]) # standard errors of residuals\n",
    "    print(MktRF.shape)\n",
    "    results.append({'Stock': stock, 'Alpha': alpha, 'Alpha std Error': alpha_std_error,'Beta': beta, \n",
    "                    'Beta std Error': beta_std_error,'Idiosyncratic Std Dev': idiosyncratic_std})\n",
    "\n",
    "# Convert results to a DataFrame\n",
    "results_df = pd.DataFrame(results)\n",
    "results_df"
   ]
  },
  {
   "cell_type": "markdown",
   "id": "e3fe8ff3-9196-4923-ba07-69119ba5648f",
   "metadata": {},
   "source": [
    "### Part(c)"
   ]
  },
  {
   "cell_type": "code",
   "execution_count": 11,
   "id": "9e3e9f51-01b4-4bcc-a0b9-97c8b3c917c1",
   "metadata": {},
   "outputs": [
    {
     "data": {
      "text/html": [
       "<div>\n",
       "<style scoped>\n",
       "    .dataframe tbody tr th:only-of-type {\n",
       "        vertical-align: middle;\n",
       "    }\n",
       "\n",
       "    .dataframe tbody tr th {\n",
       "        vertical-align: top;\n",
       "    }\n",
       "\n",
       "    .dataframe thead th {\n",
       "        text-align: right;\n",
       "    }\n",
       "</style>\n",
       "<table border=\"1\" class=\"dataframe\">\n",
       "  <thead>\n",
       "    <tr style=\"text-align: right;\">\n",
       "      <th></th>\n",
       "      <th>Stock</th>\n",
       "      <th>Sample average excess return</th>\n",
       "      <th>CAPM predicted return</th>\n",
       "      <th>Diff(Actual - CAPM predicted)</th>\n",
       "    </tr>\n",
       "  </thead>\n",
       "  <tbody>\n",
       "    <tr>\n",
       "      <th>0</th>\n",
       "      <td>MSFT</td>\n",
       "      <td>0.004179</td>\n",
       "      <td>0.001613</td>\n",
       "      <td>0.002566</td>\n",
       "    </tr>\n",
       "    <tr>\n",
       "      <th>1</th>\n",
       "      <td>INTC</td>\n",
       "      <td>0.003011</td>\n",
       "      <td>0.001914</td>\n",
       "      <td>0.001098</td>\n",
       "    </tr>\n",
       "    <tr>\n",
       "      <th>2</th>\n",
       "      <td>LUV</td>\n",
       "      <td>0.002811</td>\n",
       "      <td>0.001741</td>\n",
       "      <td>0.001070</td>\n",
       "    </tr>\n",
       "    <tr>\n",
       "      <th>3</th>\n",
       "      <td>MCD</td>\n",
       "      <td>0.002343</td>\n",
       "      <td>0.001047</td>\n",
       "      <td>0.001296</td>\n",
       "    </tr>\n",
       "    <tr>\n",
       "      <th>4</th>\n",
       "      <td>JNJ</td>\n",
       "      <td>0.002156</td>\n",
       "      <td>0.000907</td>\n",
       "      <td>0.001249</td>\n",
       "    </tr>\n",
       "  </tbody>\n",
       "</table>\n",
       "</div>"
      ],
      "text/plain": [
       "  Stock  Sample average excess return  CAPM predicted return  \\\n",
       "0  MSFT                      0.004179               0.001613   \n",
       "1  INTC                      0.003011               0.001914   \n",
       "2   LUV                      0.002811               0.001741   \n",
       "3   MCD                      0.002343               0.001047   \n",
       "4   JNJ                      0.002156               0.000907   \n",
       "\n",
       "   Diff(Actual - CAPM predicted)  \n",
       "0                       0.002566  \n",
       "1                       0.001098  \n",
       "2                       0.001070  \n",
       "3                       0.001296  \n",
       "4                       0.001249  "
      ]
     },
     "execution_count": 11,
     "metadata": {},
     "output_type": "execute_result"
    }
   ],
   "source": [
    "# Calculate average excess return for each stock\n",
    "avg_excess_returns = {stock:excess_return.mean() for stock, excess_return in excess_returns.items()}\n",
    "\n",
    "# Calculate average excess return for market portfolio\n",
    "average_market_excess_return = d['mktrf'].mean()\n",
    "\n",
    "# Compute the CAPM estimated return and compare it with Sample average excess return \n",
    "comparison_results = []\n",
    "\n",
    "for result in results:\n",
    "    stock = result['Stock']\n",
    "    beta = result['Beta']\n",
    "    predicted_return = beta * average_market_excess_return\n",
    "    actual_return = avg_excess_returns[stock]\n",
    "    diff = actual_return - predicted_return\n",
    "    comparison_results.append({'Stock':stock,\n",
    "                              'Sample average excess return':actual_return,\n",
    "                              'CAPM predicted return':predicted_return,\n",
    "                              'Diff(Actual - CAPM predicted)':diff})\n",
    "comparison_df = pd.DataFrame(comparison_results)\n",
    "comparison_df"
   ]
  },
  {
   "cell_type": "markdown",
   "id": "e8521662-ff94-4e9b-843c-dea41bd71b02",
   "metadata": {},
   "source": [
    "## Problem 2"
   ]
  },
  {
   "cell_type": "markdown",
   "id": "dfd06be5-14ea-4671-a398-c89f244f2501",
   "metadata": {},
   "source": [
    "### Part(a)"
   ]
  },
  {
   "cell_type": "code",
   "execution_count": 14,
   "id": "0216c5a4-0e4b-401a-94e6-dbb8fb50ca6a",
   "metadata": {},
   "outputs": [
    {
     "name": "stdout",
     "output_type": "stream",
     "text": [
      "According to the CAPM, investors should expect the return of security is 0.06100.\n"
     ]
    }
   ],
   "source": [
    "beta = 1.3\n",
    "rf = 0.009\n",
    "mktrp = 0.04\n",
    "B_return_CAPM  = beta * mktrp + rf\n",
    "print(\"According to the CAPM, investors should expect the return of security is {:.5f}.\".format(B_return_CAPM))"
   ]
  },
  {
   "cell_type": "markdown",
   "id": "bf39e78b-8679-4a11-847d-3452423ec98d",
   "metadata": {},
   "source": [
    "### Part(b)"
   ]
  },
  {
   "cell_type": "code",
   "execution_count": 16,
   "id": "61385fa5-bb57-4435-8bea-19c07c97b03d",
   "metadata": {},
   "outputs": [
    {
     "name": "stdout",
     "output_type": "stream",
     "text": [
      "Given no dividend,The security should be traded at the price of 53.05000 next year\n"
     ]
    }
   ],
   "source": [
    "price = 50\n",
    "expected_price = price * (1 + B_return_CAPM)\n",
    "print(\"Given no dividend,The security should be traded at the price of {:.5f} next year\".format(expected_price))"
   ]
  },
  {
   "cell_type": "markdown",
   "id": "64d931a7-6544-4b5a-ae7c-6c3d3785d186",
   "metadata": {},
   "source": [
    "### Part(c)"
   ]
  },
  {
   "cell_type": "code",
   "execution_count": 18,
   "id": "9b911c90-8551-42f2-ba7f-c650f84cdc39",
   "metadata": {},
   "outputs": [
    {
     "name": "stdout",
     "output_type": "stream",
     "text": [
      "Given dividend is $2, the security should be traded at the price of 51.05000\n"
     ]
    }
   ],
   "source": [
    "dividend = 2\n",
    "print(\"Given dividend is $2, the security should be traded at the price of {:.5f}\".format(expected_price - dividend)) "
   ]
  },
  {
   "cell_type": "markdown",
   "id": "5f647756-14df-4244-8b42-e5383700bffb",
   "metadata": {},
   "source": [
    "## Problem 3"
   ]
  },
  {
   "cell_type": "markdown",
   "id": "2f4f1a2a-af23-4cce-9a68-95cc7ba12db1",
   "metadata": {},
   "source": [
    "### Part(a)"
   ]
  },
  {
   "cell_type": "code",
   "execution_count": 21,
   "id": "f32f1ef4-4929-473f-bed2-e276174f3390",
   "metadata": {},
   "outputs": [
    {
     "name": "stdout",
     "output_type": "stream",
     "text": [
      "The beta of DangerCo is 1.95000.\n",
      "The beta of SteadyCo is 0.42500.\n"
     ]
    }
   ],
   "source": [
    "# Store return into vector\n",
    "Danger_return = [-0.19,0.2]\n",
    "Steady_return = [-0.01,0.075]\n",
    "mkt_return = [-0.08,0.12]\n",
    "\n",
    "# Calcualte covarince of two companies with the market\n",
    "cov_Danger_mkt = np.cov(Danger_return,mkt_return, ddof = 0)[0,1]\n",
    "cov_Steady_mkt = np.cov(Steady_return,mkt_return,ddof = 0)[0,1]\n",
    "var_market = np.cov(Danger_return,mkt_return, ddof = 0)[1,1]\n",
    "\n",
    "beta_Danger = cov_Danger_mkt / var_market\n",
    "beta_Steady = cov_Steady_mkt / var_market\n",
    "\n",
    "print(\"The beta of DangerCo is {:.5f}.\".format(beta_Danger))\n",
    "print(\"The beta of SteadyCo is {:.5f}.\".format(beta_Steady))"
   ]
  },
  {
   "cell_type": "markdown",
   "id": "5b7080ec-1ce9-4c1c-992c-e26a99aa1a2f",
   "metadata": {},
   "source": [
    "### Part(b)"
   ]
  },
  {
   "cell_type": "code",
   "execution_count": 23,
   "id": "d35a6e30-f937-448a-a4f9-ab86f5b47250",
   "metadata": {},
   "outputs": [
    {
     "name": "stdout",
     "output_type": "stream",
     "text": [
      "Expected rate of return on DangerCo. is 0.00500.\n",
      "Expected rate of return on SteadyCo. is 0.03250.\n"
     ]
    }
   ],
   "source": [
    "# Calculate expected return of stocks\n",
    "expected_return_Danger = np.mean(Danger_return)\n",
    "expected_return_Steady = np.mean(Steady_return)\n",
    "print(\"Expected rate of return on DangerCo. is {:.5f}.\".format(expected_return_Danger))\n",
    "print(\"Expected rate of return on SteadyCo. is {:.5f}.\".format(expected_return_Steady))"
   ]
  },
  {
   "cell_type": "markdown",
   "id": "1c02283f-6a8e-42c5-a77f-8d2c82e949e9",
   "metadata": {},
   "source": [
    "### Part(c)"
   ]
  },
  {
   "cell_type": "code",
   "execution_count": 25,
   "id": "8a796d19-5488-4504-94df-6b380bece1d3",
   "metadata": {},
   "outputs": [
    {
     "data": {
      "image/png": "[encoded data removed]",
      "text/plain": [
       "<Figure size 1000x600 with 1 Axes>"
      ]
     },
     "metadata": {},
     "output_type": "display_data"
    }
   ],
   "source": [
    "# Calculate slope of sml\n",
    "from scipy.linalg import solve\n",
    "rf = 0.02\n",
    "expected_return_mkt = np.mean(mkt_return)\n",
    "b = [rf, expected_return_mkt]\n",
    "A = [[0,1],[1,1]]\n",
    "slope = solve(A,b)[0]\n",
    "sml_x = np.linspace(0,2,100)\n",
    "sml_y = b[0] + sml_x * slope\n",
    "\n",
    "#print(slope)\n",
    "#print(np.mean(mkt_return) - rf)\n",
    "\n",
    "\n",
    "# Draw the SML graph\n",
    "plt.figure(figsize=(10, 6))\n",
    "plt.plot(sml_x, sml_y, label=\"Security Market Line (SML)\", color=\"blue\")\n",
    "\n",
    "# Highlight beta = 1\n",
    "beta_1 = 1\n",
    "expected_return_beta_1 = b[0] + beta_1 * slope\n",
    "\n",
    "plt.scatter(beta_1, expected_return_beta_1, color=\"red\", zorder=5)\n",
    "plt.text(beta_1, expected_return_beta_1, \" $(\\\\beta=1, E(R_m))$\", fontsize=12, verticalalignment='bottom')\n",
    "\n",
    "# Mark risk-free rate and Market portfolio\n",
    "plt.scatter([0], [b[0]], color=\"red\", zorder=5)\n",
    "plt.text(0, b[0], \" $R_f$\", fontsize=12, verticalalignment='bottom')\n",
    "\n",
    "# Format axes and labels\n",
    "plt.xlabel(\"Beta ($\\\\beta$)\", fontsize=12)\n",
    "plt.ylabel(\"Expected Return ($E(R)$)\", fontsize=12)\n",
    "plt.title(\"The Security Market Line (SML)\", fontsize=14)\n",
    "plt.grid(True, linestyle=\"--\", linewidth=0.7, alpha=0.7)\n",
    "plt.legend()\n",
    "plt.show()\n"
   ]
  },
  {
   "cell_type": "markdown",
   "id": "680ea653-d037-4ca3-bb4e-3f47f7c3e7a7",
   "metadata": {},
   "source": [
    "### Part(d)"
   ]
  },
  {
   "cell_type": "code",
   "execution_count": 27,
   "id": "f7f50eef-b329-49f4-a7f1-f2c9d4c33364",
   "metadata": {},
   "outputs": [
    {
     "name": "stdout",
     "output_type": "stream",
     "text": [
      "The alpha of DangerCo. is -0.01500\n",
      "The alpha of SteadyCo. is 0.01250\n"
     ]
    },
    {
     "data": {
      "image/png": "[encoded data removed]",
      "text/plain": [
       "<Figure size 1000x600 with 1 Axes>"
      ]
     },
     "metadata": {},
     "output_type": "display_data"
    }
   ],
   "source": [
    "# Calcualte the value\n",
    "capm_Danger_return = rf + slope * beta_Danger\n",
    "capm_Steady_return = rf + slope * beta_Steady\n",
    "\n",
    "# Calculate the alpha of two stocks\n",
    "alpha_Danger = expected_return_Danger - capm_Danger_return\n",
    "alpha_Steady = expected_return_Steady - capm_Steady_return\n",
    "\n",
    "print(\"The alpha of DangerCo. is {:.5f}\".format(alpha_Danger))\n",
    "print(\"The alpha of SteadyCo. is {:.5f}\".format(alpha_Steady))\n",
    "\n",
    "# Draw the SML graph\n",
    "plt.figure(figsize=(10, 6))\n",
    "plt.plot(sml_x, sml_y, label=\"Security Market Line (SML)\", color=\"blue\")\n",
    "plt.scatter(beta_Danger, capm_Danger_return, label=\"DangerCo. CAPM\", color=\"orange\")\n",
    "plt.scatter(beta_Danger, expected_return_Danger, label=\"DangerCo. Actual\", color=\"red\")\n",
    "plt.scatter(beta_Steady, capm_Steady_return, label=\"SteadyCo. CAPM\", color=\"green\")\n",
    "plt.scatter(beta_Steady, expected_return_Steady, label=\"SteadyCo. Actual\", color=\"purple\")\n",
    "\n",
    "# Add alpha annotations\n",
    "plt.annotate(f\"DangerCo. Alpha: {alpha_Danger:.2%}\", \n",
    "             (beta_Danger, expected_return_Danger), \n",
    "xytext=(beta_Danger + 0.1, expected_return_Danger + 0.005), \n",
    "arrowprops=dict(arrowstyle=\"->\", color=\"red\"), fontsize=10, color=\"red\")\n",
    "\n",
    "plt.annotate(f\"SteadyCo. Alpha: {alpha_Steady:.2%}\", \n",
    "             (beta_Steady, expected_return_Steady), \n",
    "xytext=(beta_Steady + 0.1, expected_return_Steady + 0.005), \n",
    "arrowprops=dict(arrowstyle=\"->\", color=\"purple\"), fontsize=10, color=\"purple\")\n",
    "\n",
    "# Highlight beta = 1\n",
    "beta_1 = 1\n",
    "expected_return_beta_1 = rf + beta_1 * slope\n",
    "plt.scatter(beta_1, expected_return_beta_1, color=\"red\", zorder=5)\n",
    "plt.text(beta_1, expected_return_beta_1, \" $(\\\\beta=1, E(R_m))$\", fontsize=12, verticalalignment='bottom')\n",
    "\n",
    "# Mark risk-free rate and Market portfolio\n",
    "plt.scatter([0], [rf], color=\"red\", zorder=5)\n",
    "plt.text(0, rf, \" $R_f$\", fontsize=12, verticalalignment='bottom')\n",
    "\n",
    "# Format axes and labels\n",
    "plt.ylim(0, 0.1)  # Adjust y-axis limit to make the graph larger\n",
    "plt.xlabel(\"Beta ($\\\\beta$)\", fontsize=12)\n",
    "plt.ylabel(\"Expected Return ($E(R)$)\", fontsize=12)\n",
    "plt.title(\"The Security Market Line (SML)\", fontsize=14)\n",
    "plt.grid(True, linestyle=\"--\", linewidth=0.7, alpha=0.7)\n",
    "plt.legend()\n",
    "plt.show()\n",
    "\n",
    "\n"
   ]
  }
 ],
 "metadata": {
  "kernelspec": {
   "display_name": "Python 3 (ipykernel)",
   "language": "python",
   "name": "python3"
  },
  "language_info": {
   "codemirror_mode": {
    "name": "ipython",
    "version": 3
   },
   "file_extension": ".py",
   "mimetype": "text/x-python",
   "name": "python",
   "nbconvert_exporter": "python",
   "pygments_lexer": "ipython3",
   "version": "3.12.4"
  }
 },
 "nbformat": 4,
 "nbformat_minor": 5
}
